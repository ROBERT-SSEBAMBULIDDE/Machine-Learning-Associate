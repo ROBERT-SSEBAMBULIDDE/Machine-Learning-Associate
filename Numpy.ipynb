{
  "nbformat": 4,
  "nbformat_minor": 0,
  "metadata": {
    "colab": {
      "provenance": [],
      "authorship_tag": "ABX9TyNeoiQFWH9fP9W+HdX/2CVs",
      "include_colab_link": true
    },
    "kernelspec": {
      "name": "python3",
      "display_name": "Python 3"
    },
    "language_info": {
      "name": "python"
    }
  },
  "cells": [
    {
      "cell_type": "markdown",
      "metadata": {
        "id": "view-in-github",
        "colab_type": "text"
      },
      "source": [
        "<a href=\"https://colab.research.google.com/github/ROBERT-SSEBAMBULIDDE/Machine-Learning-Associate/blob/main/Numpy.ipynb\" target=\"_parent\"><img src=\"https://colab.research.google.com/assets/colab-badge.svg\" alt=\"Open In Colab\"/></a>"
      ]
    },
    {
      "cell_type": "markdown",
      "source": [
        "Numpy Package"
      ],
      "metadata": {
        "id": "p5x2V-hFwvIT"
      }
    },
    {
      "cell_type": "code",
      "source": [
        "import numpy as np\n",
        "\n",
        "#an array\n",
        "a = np.array([1,2,3,4,5]) #1D array\n",
        "print(a)\n",
        "print(type(a))"
      ],
      "metadata": {
        "colab": {
          "base_uri": "https://localhost:8080/"
        },
        "id": "1zn2Pzo30NXf",
        "outputId": "f55ee463-8abf-4422-d06d-33e7eac84c35"
      },
      "execution_count": null,
      "outputs": [
        {
          "output_type": "stream",
          "name": "stdout",
          "text": [
            "[1 2 3 4 5]\n",
            "<class 'numpy.ndarray'>\n"
          ]
        }
      ]
    },
    {
      "cell_type": "code",
      "source": [
        "#a 2D array\n",
        "b = np.array([[1,2,3],[4,5,6]]) #2D array\n",
        "print(b)\n",
        "print(type(b))"
      ],
      "metadata": {
        "colab": {
          "base_uri": "https://localhost:8080/"
        },
        "id": "kDdeMoD400t4",
        "outputId": "7d27764e-efed-487f-8144-215f3c13a8cb"
      },
      "execution_count": null,
      "outputs": [
        {
          "output_type": "stream",
          "name": "stdout",
          "text": [
            "[[1 2 3]\n",
            " [4 5 6]]\n",
            "<class 'numpy.ndarray'>\n"
          ]
        }
      ]
    },
    {
      "cell_type": "code",
      "source": [
        "#accessing elements of an array\n",
        "a = np.array([1,2,3,4,5])\n",
        "print(a[0])\n",
        "print(a[1])"
      ],
      "metadata": {
        "colab": {
          "base_uri": "https://localhost:8080/"
        },
        "id": "QSz0zy0D3_yh",
        "outputId": "18974a47-4f55-4918-d371-3c8a926775ce"
      },
      "execution_count": null,
      "outputs": [
        {
          "output_type": "stream",
          "name": "stdout",
          "text": [
            "1\n",
            "2\n"
          ]
        }
      ]
    },
    {
      "cell_type": "code",
      "source": [
        "#assigning new element to an array\n",
        "a = np.array([1,2,3,4,5])\n",
        "a[0] = 10\n",
        "print(a)"
      ],
      "metadata": {
        "colab": {
          "base_uri": "https://localhost:8080/"
        },
        "id": "8sHZ3hRf4fvj",
        "outputId": "63dca517-767c-4dd9-a789-381b9db05786"
      },
      "execution_count": null,
      "outputs": [
        {
          "output_type": "stream",
          "name": "stdout",
          "text": [
            "[10  2  3  4  5]\n"
          ]
        }
      ]
    },
    {
      "cell_type": "code",
      "source": [
        "#slicing an array\n",
        "a = np.array([1,2,3,4,5])\n",
        "print(a[0:3]) #first 3 elements\n",
        "\n",
        "print(a[0:3:2]) #first 3 elements with a step of 2\n",
        "\n",
        "print(a[:]) #all elements\n",
        "\n",
        "print(a[::2]) #all elements with a step of 2\n",
        "\n",
        "print(a[::-1]) #all elements in reverse order\n",
        "\n",
        "print(a[-1]) #last element\n",
        "\n",
        "print(a[-2]) #second last element"
      ],
      "metadata": {
        "colab": {
          "base_uri": "https://localhost:8080/"
        },
        "id": "m1q7TxSo5YeW",
        "outputId": "edc3e2f0-27b1-4b0b-bd87-1720209de116"
      },
      "execution_count": null,
      "outputs": [
        {
          "output_type": "stream",
          "name": "stdout",
          "text": [
            "[1 2 3]\n",
            "[1 3]\n",
            "[1 2 3 4 5]\n",
            "[1 3 5]\n",
            "[5 4 3 2 1]\n",
            "5\n",
            "4\n"
          ]
        }
      ]
    },
    {
      "cell_type": "markdown",
      "source": [
        "# **ARRAY ATRIBUTES**\n",
        " ndim, shape, size, and dtype attributes of an array."
      ],
      "metadata": {
        "id": "QMrGMYtM8jxD"
      }
    },
    {
      "cell_type": "code",
      "source": [
        "# ARRAY ATTRIBUTES\n",
        "#ndim #shape #size #dtype\n",
        "\n",
        "#ndim\n",
        "a = np.array([1,2,3,4,5])\n",
        "print(a.ndim) #show dimension of the array\n",
        "\n",
        "#shape\n",
        "a = np.array([1,2,3,4,5])\n",
        "print(a.shape) #show shape of the array\n",
        "\n",
        "#size\n",
        "a = np.array([1,2,3,4,5])\n",
        "print(a.size) #show size of the array\n",
        "\n",
        "#dtype\n",
        "a = np.array([1,2,3,4,5])\n",
        "print(a.dtype) #show data type of the array"
      ],
      "metadata": {
        "colab": {
          "base_uri": "https://localhost:8080/"
        },
        "id": "Aj2P5SA08uRQ",
        "outputId": "9c8b6d2a-68ac-4fad-a815-7e6924adf746"
      },
      "execution_count": null,
      "outputs": [
        {
          "output_type": "stream",
          "name": "stdout",
          "text": [
            "1\n",
            "(5,)\n",
            "5\n",
            "int64\n"
          ]
        }
      ]
    },
    {
      "cell_type": "markdown",
      "source": [
        "# **How to create a basic array**\n",
        " np.zeros(), np.ones(), np.empty(), np.arange(), np.linspace()"
      ],
      "metadata": {
        "id": "6QrwOiJz-Uaj"
      }
    },
    {
      "cell_type": "code",
      "source": [
        "#np.zeros()\n",
        "a = np.zeros((3,4)) #3 rows and 4 columns\n",
        "print(a)\n",
        "\n",
        "#np.ones()\n",
        "a = np.ones((3,4)) #3 rows and 4 columns\n",
        "print(a)\n",
        "\n",
        "#np.arange()\n",
        "a = np.arange(10) #1D array with 10 elements\n",
        "print(a)\n",
        "\n",
        "a = np.arange(10,20) #1D array with 10 elements between 10 and 20\n",
        "print(a)\n",
        "\n",
        "a = np.arange(10,20,2) #1D array with 10 elements between 10 and 20 with a step of 2\n",
        "print(a)\n",
        "#np.linspace()\n",
        "a = np.linspace(0,1,5) #1D array with 5 elements between 0 and 1\n",
        "print(a)"
      ],
      "metadata": {
        "colab": {
          "base_uri": "https://localhost:8080/"
        },
        "id": "9QmpL9DzLCnR",
        "outputId": "f4727b77-efa1-474a-9707-0c07a0863a6b"
      },
      "execution_count": null,
      "outputs": [
        {
          "output_type": "stream",
          "name": "stdout",
          "text": [
            "[[0. 0. 0. 0.]\n",
            " [0. 0. 0. 0.]\n",
            " [0. 0. 0. 0.]]\n",
            "[[1. 1. 1. 1.]\n",
            " [1. 1. 1. 1.]\n",
            " [1. 1. 1. 1.]]\n",
            "[0 1 2 3 4 5 6 7 8 9]\n",
            "[10 11 12 13 14 15 16 17 18 19]\n",
            "[10 12 14 16 18]\n",
            "[0.   0.25 0.5  0.75 1.  ]\n"
          ]
        }
      ]
    },
    {
      "cell_type": "code",
      "source": [
        "#specifying data type\n",
        "a = np.array([1,2,3,4,5], dtype=np.float64) #1D array with 5 elements of float64 data type\n",
        "print(a)\n",
        "\n",
        "a = np.array([1,2,3,4,5], dtype=np.int32) #1D array with 5 elements of int32 data type\n",
        "print(a)"
      ],
      "metadata": {
        "colab": {
          "base_uri": "https://localhost:8080/"
        },
        "id": "N0rwruNRNIOc",
        "outputId": "7c2d297e-f5cf-43be-c1f3-b40a4ebed59f"
      },
      "execution_count": null,
      "outputs": [
        {
          "output_type": "stream",
          "name": "stdout",
          "text": [
            "[1. 2. 3. 4. 5.]\n",
            "[1 2 3 4 5]\n"
          ]
        }
      ]
    },
    {
      "cell_type": "markdown",
      "source": [
        "# **Adding, removing, and sorting elements**\n",
        "np.sort(), np.concatenate()"
      ],
      "metadata": {
        "id": "LQqwLGkWNfK4"
      }
    },
    {
      "cell_type": "code",
      "source": [
        "#np.sort()\n",
        "a = np.array([5,2,1,3,4,5])\n",
        "np.sort(a) #sort the array in ascending order\n",
        "print(a)"
      ],
      "metadata": {
        "colab": {
          "base_uri": "https://localhost:8080/"
        },
        "id": "vhZLGISUNp9I",
        "outputId": "46ffaf9d-2e16-439d-ec24-ec8b086759ce"
      },
      "execution_count": null,
      "outputs": [
        {
          "output_type": "stream",
          "name": "stdout",
          "text": [
            "[5 2 1 3 4 5]\n"
          ]
        }
      ]
    },
    {
      "cell_type": "code",
      "source": [
        "#concatenate\n",
        "a = np.array([1,2,3,4,5])\n",
        "b = np.array([6,7,8,9,10])\n",
        "np.concatenate((a,b)) #concatenate two arrays\n",
        "print(a)\n",
        "print(b)\n",
        "c=np.concatenate((a,b), axis=0) #concatenate two arrays along the first axis\n",
        "print(a)\n",
        "print(b)\n",
        "print(c)"
      ],
      "metadata": {
        "colab": {
          "base_uri": "https://localhost:8080/"
        },
        "id": "gTYZEeVrXM19",
        "outputId": "8227a31a-a0d9-4fd7-f548-f1d486a2658a"
      },
      "execution_count": null,
      "outputs": [
        {
          "output_type": "stream",
          "name": "stdout",
          "text": [
            "[1 2 3 4 5]\n",
            "[ 6  7  8  9 10]\n",
            "[1 2 3 4 5]\n",
            "[ 6  7  8  9 10]\n",
            "[ 1  2  3  4  5  6  7  8  9 10]\n"
          ]
        }
      ]
    },
    {
      "cell_type": "code",
      "source": [
        "#concatenate 2 dimension arrays\n",
        "a = np.array([[1,2,3],[4,5,6]])\n",
        "b = np.array([[7,8,9],[10,11,12]])\n",
        "np.concatenate((a,b)) #concatenate two arrays\n",
        "print(a)\n",
        "print(b)\n",
        "c=np.concatenate((a,b), axis=1) #concatenate two arrays along the second axis\n",
        "print(c)"
      ],
      "metadata": {
        "colab": {
          "base_uri": "https://localhost:8080/"
        },
        "id": "BCfGNQmtabG9",
        "outputId": "0721416e-a1e3-47df-ce6f-b29525d728bd"
      },
      "execution_count": null,
      "outputs": [
        {
          "output_type": "stream",
          "name": "stdout",
          "text": [
            "[[1 2 3]\n",
            " [4 5 6]]\n",
            "[[ 7  8  9]\n",
            " [10 11 12]]\n",
            "[[ 1  2  3  7  8  9]\n",
            " [ 4  5  6 10 11 12]]\n"
          ]
        }
      ]
    },
    {
      "cell_type": "code",
      "source": [
        "#remove elements\n",
        "a = np.array([1,2,3,4,5])\n",
        "b=np.delete(a,2) #remove the third element\n",
        "print(b)"
      ],
      "metadata": {
        "colab": {
          "base_uri": "https://localhost:8080/"
        },
        "id": "4xtuYYo1cDHs",
        "outputId": "9290ccaf-f85b-4ab8-efd8-36f8423cbb5b"
      },
      "execution_count": null,
      "outputs": [
        {
          "output_type": "stream",
          "name": "stdout",
          "text": [
            "[1 2 4 5]\n"
          ]
        }
      ]
    },
    {
      "cell_type": "code",
      "source": [
        "#removing elements by slicing\n",
        "a = np.array([1,2,3,4,5])\n",
        "b=a[:2] #remove the first two elements\n",
        "print(b)"
      ],
      "metadata": {
        "colab": {
          "base_uri": "https://localhost:8080/"
        },
        "id": "TWMYbu5jcUeo",
        "outputId": "57135ea5-676d-496d-e087-929dea4f5540"
      },
      "execution_count": null,
      "outputs": [
        {
          "output_type": "stream",
          "name": "stdout",
          "text": [
            "[1 2]\n"
          ]
        }
      ]
    },
    {
      "cell_type": "code",
      "source": [
        "c=a[2:4] #remove the last two elements\n",
        "print(c)"
      ],
      "metadata": {
        "colab": {
          "base_uri": "https://localhost:8080/"
        },
        "id": "5hO2206odtm9",
        "outputId": "c621682f-5f4f-44c4-e401-7c605ecf07e0"
      },
      "execution_count": null,
      "outputs": [
        {
          "output_type": "stream",
          "name": "stdout",
          "text": [
            "[3 4]\n"
          ]
        }
      ]
    },
    {
      "cell_type": "markdown",
      "source": [
        "# **Reshape an array**\n",
        "arr.reshape()"
      ],
      "metadata": {
        "id": "SmuleMKufffu"
      }
    },
    {
      "cell_type": "code",
      "source": [
        "a=np.arange(1,10) #1D array with 9 elements\n",
        "print(a)"
      ],
      "metadata": {
        "colab": {
          "base_uri": "https://localhost:8080/"
        },
        "id": "UXT93T_Dfuyx",
        "outputId": "cffdaf2f-784c-4f55-e70f-552e75dd59b1"
      },
      "execution_count": null,
      "outputs": [
        {
          "output_type": "stream",
          "name": "stdout",
          "text": [
            "[1 2 3 4 5 6 7 8 9]\n"
          ]
        }
      ]
    },
    {
      "cell_type": "code",
      "source": [
        "b=a.reshape(3,3) #reshape the array to 3 rows and 3 columns\n",
        "print(b)"
      ],
      "metadata": {
        "colab": {
          "base_uri": "https://localhost:8080/"
        },
        "id": "mGGmGiV8f7uf",
        "outputId": "fb011efd-5f4e-414d-e720-6c2297b9b7af"
      },
      "execution_count": null,
      "outputs": [
        {
          "output_type": "stream",
          "name": "stdout",
          "text": [
            "[[1 2 3]\n",
            " [4 5 6]\n",
            " [7 8 9]]\n"
          ]
        }
      ]
    },
    {
      "cell_type": "markdown",
      "source": [
        "# **How to convert a 1D array into a 2D array (how to add a new axis to an array)**\n",
        " np.newaxis, np.expand_dims"
      ],
      "metadata": {
        "id": "94tBGSfhjZvz"
      }
    },
    {
      "cell_type": "code",
      "source": [
        "#converting 1D array to 2D array by adding a new axis\n",
        "a = np.array([1,2,3,4,5])\n",
        "b = a[:, np.newaxis] #add a new axis to the array as a column Vector\n",
        "print(b)"
      ],
      "metadata": {
        "colab": {
          "base_uri": "https://localhost:8080/"
        },
        "id": "vP1tATfBkpjz",
        "outputId": "c489714c-1a5b-4c00-f98b-80c25cdc9e76"
      },
      "execution_count": null,
      "outputs": [
        {
          "output_type": "stream",
          "name": "stdout",
          "text": [
            "[[1]\n",
            " [2]\n",
            " [3]\n",
            " [4]\n",
            " [5]]\n"
          ]
        }
      ]
    },
    {
      "cell_type": "code",
      "source": [
        "b.shape"
      ],
      "metadata": {
        "colab": {
          "base_uri": "https://localhost:8080/"
        },
        "id": "O7WhaMuUmRUK",
        "outputId": "15f50f0c-8b36-4c2c-e1cd-9e40489ffd68"
      },
      "execution_count": null,
      "outputs": [
        {
          "output_type": "execute_result",
          "data": {
            "text/plain": [
              "(5, 1)"
            ]
          },
          "metadata": {},
          "execution_count": 265
        }
      ]
    },
    {
      "cell_type": "code",
      "source": [
        "b.ndim"
      ],
      "metadata": {
        "colab": {
          "base_uri": "https://localhost:8080/"
        },
        "id": "i5PD9elamW32",
        "outputId": "fee548d7-de81-406a-d9a5-afd0ec652b41"
      },
      "execution_count": null,
      "outputs": [
        {
          "output_type": "execute_result",
          "data": {
            "text/plain": [
              "2"
            ]
          },
          "metadata": {},
          "execution_count": 266
        }
      ]
    },
    {
      "cell_type": "code",
      "source": [
        "#converting 1D array to 2D array by adding a new axis\n",
        "a = np.array([1,2,3,4,5])\n",
        "b = a[np.newaxis, :] #add a new axis to the array as a row Vector\n",
        "print(b)"
      ],
      "metadata": {
        "colab": {
          "base_uri": "https://localhost:8080/"
        },
        "id": "F4SQb7calbxf",
        "outputId": "e17f42d2-ecd2-4259-d92b-69f389b83a34"
      },
      "execution_count": null,
      "outputs": [
        {
          "output_type": "stream",
          "name": "stdout",
          "text": [
            "[[1 2 3 4 5]]\n"
          ]
        }
      ]
    },
    {
      "cell_type": "code",
      "source": [
        "#check shape\n",
        "b.shape"
      ],
      "metadata": {
        "colab": {
          "base_uri": "https://localhost:8080/"
        },
        "id": "5IPzhCvOmH5C",
        "outputId": "a51cb99f-0afa-48a0-b510-7653ce6bf01d"
      },
      "execution_count": null,
      "outputs": [
        {
          "output_type": "execute_result",
          "data": {
            "text/plain": [
              "(1, 5)"
            ]
          },
          "metadata": {},
          "execution_count": 268
        }
      ]
    },
    {
      "cell_type": "code",
      "source": [
        "b.ndim"
      ],
      "metadata": {
        "colab": {
          "base_uri": "https://localhost:8080/"
        },
        "id": "iPQsK3pfmcms",
        "outputId": "bd66fb32-4910-4217-eda3-ccc591c4a41f"
      },
      "execution_count": null,
      "outputs": [
        {
          "output_type": "execute_result",
          "data": {
            "text/plain": [
              "2"
            ]
          },
          "metadata": {},
          "execution_count": 269
        }
      ]
    },
    {
      "cell_type": "code",
      "source": [
        "#Expand axis\n",
        "a=np.arange(5,20)\n",
        "print(a)\n",
        "b=np.expand_dims(a, axis=1) #add a new axis to the array as a column Vector\n",
        "print(b)\n",
        "b.shape"
      ],
      "metadata": {
        "colab": {
          "base_uri": "https://localhost:8080/"
        },
        "id": "alVQtV3KLTBu",
        "outputId": "a6760181-6730-473a-faa2-6b15a415e7d8"
      },
      "execution_count": null,
      "outputs": [
        {
          "output_type": "stream",
          "name": "stdout",
          "text": [
            "[ 5  6  7  8  9 10 11 12 13 14 15 16 17 18 19]\n",
            "[[ 5]\n",
            " [ 6]\n",
            " [ 7]\n",
            " [ 8]\n",
            " [ 9]\n",
            " [10]\n",
            " [11]\n",
            " [12]\n",
            " [13]\n",
            " [14]\n",
            " [15]\n",
            " [16]\n",
            " [17]\n",
            " [18]\n",
            " [19]]\n"
          ]
        },
        {
          "output_type": "execute_result",
          "data": {
            "text/plain": [
              "(15, 1)"
            ]
          },
          "metadata": {},
          "execution_count": 270
        }
      ]
    },
    {
      "cell_type": "code",
      "source": [
        "b.ndim"
      ],
      "metadata": {
        "colab": {
          "base_uri": "https://localhost:8080/"
        },
        "id": "pk8rmdYCNN-8",
        "outputId": "e2c5d81d-e7c7-4265-c95c-c21e307838fd"
      },
      "execution_count": null,
      "outputs": [
        {
          "output_type": "execute_result",
          "data": {
            "text/plain": [
              "2"
            ]
          },
          "metadata": {},
          "execution_count": 271
        }
      ]
    },
    {
      "cell_type": "code",
      "source": [
        "#adding an axis at specified position\n",
        "a=np.arange(5,20)\n",
        "print(a)\n",
        "b=np.expand_dims(a, axis=0) #add a new axis to the array as a row Vector\n",
        "print(b)"
      ],
      "metadata": {
        "colab": {
          "base_uri": "https://localhost:8080/"
        },
        "id": "06zCOHlxNeRG",
        "outputId": "9326d366-d42f-4db4-db85-3af791f7bf16"
      },
      "execution_count": null,
      "outputs": [
        {
          "output_type": "stream",
          "name": "stdout",
          "text": [
            "[ 5  6  7  8  9 10 11 12 13 14 15 16 17 18 19]\n",
            "[[ 5  6  7  8  9 10 11 12 13 14 15 16 17 18 19]]\n"
          ]
        }
      ]
    },
    {
      "cell_type": "code",
      "source": [
        "b.shape"
      ],
      "metadata": {
        "colab": {
          "base_uri": "https://localhost:8080/"
        },
        "id": "eu8Bb9wFN33S",
        "outputId": "2c3c1afb-693f-43e8-c260-2edf325e4ffc"
      },
      "execution_count": null,
      "outputs": [
        {
          "output_type": "execute_result",
          "data": {
            "text/plain": [
              "(1, 15)"
            ]
          },
          "metadata": {},
          "execution_count": 273
        }
      ]
    },
    {
      "cell_type": "code",
      "source": [
        "b.ndim"
      ],
      "metadata": {
        "colab": {
          "base_uri": "https://localhost:8080/"
        },
        "id": "Y5-WiLVnN7E7",
        "outputId": "49eed545-7357-423e-c3bc-af0d68e570fb"
      },
      "execution_count": null,
      "outputs": [
        {
          "output_type": "execute_result",
          "data": {
            "text/plain": [
              "2"
            ]
          },
          "metadata": {},
          "execution_count": 274
        }
      ]
    },
    {
      "cell_type": "markdown",
      "source": [
        "# **Indexing and slicing**"
      ],
      "metadata": {
        "id": "eTRoRqhFPWsD"
      }
    },
    {
      "cell_type": "code",
      "source": [
        "data=np.array([[1,2,3,4,5],[6,7,8,9,10],[23,24,25,26,27]])\n",
        "print(data)"
      ],
      "metadata": {
        "colab": {
          "base_uri": "https://localhost:8080/"
        },
        "id": "9LYkG61UPZ2S",
        "outputId": "1f50dd1f-7752-49e8-c1e2-36134d6cc174"
      },
      "execution_count": null,
      "outputs": [
        {
          "output_type": "stream",
          "name": "stdout",
          "text": [
            "[[ 1  2  3  4  5]\n",
            " [ 6  7  8  9 10]\n",
            " [23 24 25 26 27]]\n"
          ]
        }
      ]
    },
    {
      "cell_type": "code",
      "source": [
        "data[2,4] #access the element in the third row and fifth column"
      ],
      "metadata": {
        "colab": {
          "base_uri": "https://localhost:8080/"
        },
        "id": "WUcdjG7qQdDR",
        "outputId": "4994d99f-11e4-4003-b65a-ef36fcc15684"
      },
      "execution_count": null,
      "outputs": [
        {
          "output_type": "execute_result",
          "data": {
            "text/plain": [
              "27"
            ]
          },
          "metadata": {},
          "execution_count": 276
        }
      ]
    },
    {
      "cell_type": "code",
      "source": [
        "data[:,4] #access the fifth column"
      ],
      "metadata": {
        "colab": {
          "base_uri": "https://localhost:8080/"
        },
        "id": "5KR5tfqRRClj",
        "outputId": "565fa108-fd0c-4472-bc15-d40a6ed249a3"
      },
      "execution_count": null,
      "outputs": [
        {
          "output_type": "execute_result",
          "data": {
            "text/plain": [
              "array([ 5, 10, 27])"
            ]
          },
          "metadata": {},
          "execution_count": 277
        }
      ]
    },
    {
      "cell_type": "code",
      "source": [
        "data[1,:] #access the second row"
      ],
      "metadata": {
        "colab": {
          "base_uri": "https://localhost:8080/"
        },
        "id": "fZlKtcrFRQrp",
        "outputId": "bf662a21-0b96-42b0-eb5a-d08eaebd4796"
      },
      "execution_count": null,
      "outputs": [
        {
          "output_type": "execute_result",
          "data": {
            "text/plain": [
              "array([ 6,  7,  8,  9, 10])"
            ]
          },
          "metadata": {},
          "execution_count": 278
        }
      ]
    },
    {
      "cell_type": "code",
      "source": [
        "#conditional selection\n",
        "data[data>5] #select all elements greater than 5"
      ],
      "metadata": {
        "colab": {
          "base_uri": "https://localhost:8080/"
        },
        "id": "so1VTecQR0Q0",
        "outputId": "3f0c9d10-9af5-4825-9261-532a368982c8"
      },
      "execution_count": null,
      "outputs": [
        {
          "output_type": "execute_result",
          "data": {
            "text/plain": [
              "array([ 6,  7,  8,  9, 10, 23, 24, 25, 26, 27])"
            ]
          },
          "metadata": {},
          "execution_count": 279
        }
      ]
    },
    {
      "cell_type": "code",
      "source": [
        "data[data<5] #select all elements less than 5\n"
      ],
      "metadata": {
        "colab": {
          "base_uri": "https://localhost:8080/"
        },
        "id": "HhOvBAU5Sgyt",
        "outputId": "1f18d1dd-46e4-4d5b-c479-7cb2865bb630"
      },
      "execution_count": null,
      "outputs": [
        {
          "output_type": "execute_result",
          "data": {
            "text/plain": [
              "array([1, 2, 3, 4])"
            ]
          },
          "metadata": {},
          "execution_count": 280
        }
      ]
    },
    {
      "cell_type": "code",
      "source": [
        "data[data==5] #select all elements equal to 5\n"
      ],
      "metadata": {
        "colab": {
          "base_uri": "https://localhost:8080/"
        },
        "id": "P3yZq3g4SqCt",
        "outputId": "9cf6807e-c27b-42f3-e002-68205781610a"
      },
      "execution_count": null,
      "outputs": [
        {
          "output_type": "execute_result",
          "data": {
            "text/plain": [
              "array([5])"
            ]
          },
          "metadata": {},
          "execution_count": 281
        }
      ]
    },
    {
      "cell_type": "code",
      "source": [
        "data[data!=5] #select all elements not equal to 5"
      ],
      "metadata": {
        "colab": {
          "base_uri": "https://localhost:8080/"
        },
        "id": "D6UtkomfSsPe",
        "outputId": "c552d4ca-9f84-4c5b-c43b-3fe92acb8d32"
      },
      "execution_count": null,
      "outputs": [
        {
          "output_type": "execute_result",
          "data": {
            "text/plain": [
              "array([ 1,  2,  3,  4,  6,  7,  8,  9, 10, 23, 24, 25, 26, 27])"
            ]
          },
          "metadata": {},
          "execution_count": 282
        }
      ]
    },
    {
      "cell_type": "code",
      "source": [
        "data[data%2==0] #select all elements that are even"
      ],
      "metadata": {
        "colab": {
          "base_uri": "https://localhost:8080/"
        },
        "id": "b3-2nH6wSuf1",
        "outputId": "e63b8172-e79a-4b02-e7a0-8eb2787f7eb3"
      },
      "execution_count": null,
      "outputs": [
        {
          "output_type": "execute_result",
          "data": {
            "text/plain": [
              "array([ 2,  4,  6,  8, 10, 24, 26])"
            ]
          },
          "metadata": {},
          "execution_count": 283
        }
      ]
    },
    {
      "cell_type": "code",
      "source": [
        "data[data%2!=0] #select all elements that are odd"
      ],
      "metadata": {
        "colab": {
          "base_uri": "https://localhost:8080/"
        },
        "id": "BrZ1nCKhSw_1",
        "outputId": "b1a6c6b6-184b-4c09-edd8-b5f237a438de"
      },
      "execution_count": null,
      "outputs": [
        {
          "output_type": "execute_result",
          "data": {
            "text/plain": [
              "array([ 1,  3,  5,  7,  9, 23, 25, 27])"
            ]
          },
          "metadata": {},
          "execution_count": 284
        }
      ]
    },
    {
      "cell_type": "code",
      "source": [
        "#logical operators\n",
        "data[(data>5) & (data<10)] #select all elements greater than 5 and less than 10"
      ],
      "metadata": {
        "colab": {
          "base_uri": "https://localhost:8080/"
        },
        "id": "6_GcBptbWJRf",
        "outputId": "68616e3f-bb32-4205-b07d-3de71fe41245"
      },
      "execution_count": null,
      "outputs": [
        {
          "output_type": "execute_result",
          "data": {
            "text/plain": [
              "array([6, 7, 8, 9])"
            ]
          },
          "metadata": {},
          "execution_count": 285
        }
      ]
    },
    {
      "cell_type": "code",
      "source": [],
      "metadata": {
        "id": "MQfE14nPaWR_"
      },
      "execution_count": null,
      "outputs": []
    },
    {
      "cell_type": "markdown",
      "source": [
        "# **How to create an array from existing data**\n",
        " slicing and indexing, np.vstack(), np.hstack(), np.hsplit(), .view(), copy()"
      ],
      "metadata": {
        "id": "JfVSl8gf_KCA"
      }
    },
    {
      "cell_type": "code",
      "source": [
        "a=np.array([1,2,3,4,5])"
      ],
      "metadata": {
        "id": "_tlna2Ev_S70"
      },
      "execution_count": null,
      "outputs": []
    },
    {
      "cell_type": "code",
      "source": [
        "#slicing to create a new array\n",
        "a[0:3] #first 3 elements"
      ],
      "metadata": {
        "colab": {
          "base_uri": "https://localhost:8080/"
        },
        "id": "5DOnS7GI_pje",
        "outputId": "f009fe96-d28e-429c-9862-193596a10156"
      },
      "execution_count": null,
      "outputs": [
        {
          "output_type": "execute_result",
          "data": {
            "text/plain": [
              "array([1, 2, 3])"
            ]
          },
          "metadata": {},
          "execution_count": 287
        }
      ]
    },
    {
      "cell_type": "code",
      "source": [
        "a[0:3:2] #first 3 elements with a step of 2"
      ],
      "metadata": {
        "colab": {
          "base_uri": "https://localhost:8080/"
        },
        "id": "c9ch1k3gAEkL",
        "outputId": "e1b61d61-035b-4c91-dd10-c9af76f886a0"
      },
      "execution_count": null,
      "outputs": [
        {
          "output_type": "execute_result",
          "data": {
            "text/plain": [
              "array([1, 3])"
            ]
          },
          "metadata": {},
          "execution_count": 288
        }
      ]
    },
    {
      "cell_type": "code",
      "source": [
        "a[:] #all elements"
      ],
      "metadata": {
        "colab": {
          "base_uri": "https://localhost:8080/"
        },
        "id": "zo-0uxDrAFQS",
        "outputId": "35567f1e-89da-491a-d2b5-140c6883f42b"
      },
      "execution_count": null,
      "outputs": [
        {
          "output_type": "execute_result",
          "data": {
            "text/plain": [
              "array([1, 2, 3, 4, 5])"
            ]
          },
          "metadata": {},
          "execution_count": 289
        }
      ]
    },
    {
      "cell_type": "code",
      "source": [
        "a[::-1] #all elements in reverse order\n",
        "\n"
      ],
      "metadata": {
        "colab": {
          "base_uri": "https://localhost:8080/"
        },
        "id": "ugxo3qgwAEVj",
        "outputId": "f5d56d9b-d107-4006-d648-14890b006ea6"
      },
      "execution_count": null,
      "outputs": [
        {
          "output_type": "execute_result",
          "data": {
            "text/plain": [
              "array([5, 4, 3, 2, 1])"
            ]
          },
          "metadata": {},
          "execution_count": 290
        }
      ]
    },
    {
      "cell_type": "code",
      "source": [
        "a[-1] #last element"
      ],
      "metadata": {
        "colab": {
          "base_uri": "https://localhost:8080/"
        },
        "id": "4ea057SvAEG3",
        "outputId": "39c6b148-fd10-418c-99e2-96c9da52d6cc"
      },
      "execution_count": null,
      "outputs": [
        {
          "output_type": "execute_result",
          "data": {
            "text/plain": [
              "5"
            ]
          },
          "metadata": {},
          "execution_count": 291
        }
      ]
    },
    {
      "cell_type": "code",
      "source": [
        "a[-2] #second last element"
      ],
      "metadata": {
        "colab": {
          "base_uri": "https://localhost:8080/"
        },
        "id": "Pc3JaI0mAD4c",
        "outputId": "598d7396-e138-4164-d244-ccf64c2895af"
      },
      "execution_count": null,
      "outputs": [
        {
          "output_type": "execute_result",
          "data": {
            "text/plain": [
              "4"
            ]
          },
          "metadata": {},
          "execution_count": 292
        }
      ]
    },
    {
      "cell_type": "code",
      "source": [
        "#indexing to create new array\n",
        "a[0:3] #first 3 elements"
      ],
      "metadata": {
        "colab": {
          "base_uri": "https://localhost:8080/"
        },
        "id": "YmkS26eoAnrK",
        "outputId": "5decac6c-1cdd-470b-bb33-f76c7217c2be"
      },
      "execution_count": null,
      "outputs": [
        {
          "output_type": "execute_result",
          "data": {
            "text/plain": [
              "array([1, 2, 3])"
            ]
          },
          "metadata": {},
          "execution_count": 293
        }
      ]
    },
    {
      "cell_type": "code",
      "source": [
        "#np.vstack()\n",
        "a = np.array([1,2,3,4,5])\n",
        "b = np.array([6,7,8,9,10])\n",
        "c=np.vstack((a,b)) #stack two arrays vertically\n",
        "print(c)\n"
      ],
      "metadata": {
        "colab": {
          "base_uri": "https://localhost:8080/"
        },
        "id": "XwRvU6FaA1e_",
        "outputId": "e12827a4-b2e6-4bce-caec-74d3622ef41c"
      },
      "execution_count": null,
      "outputs": [
        {
          "output_type": "stream",
          "name": "stdout",
          "text": [
            "[[ 1  2  3  4  5]\n",
            " [ 6  7  8  9 10]]\n"
          ]
        }
      ]
    },
    {
      "cell_type": "code",
      "source": [
        "#np.hstack()\n",
        "a = np.array([1,2,3,4,5])\n",
        "b = np.array([6,7,8,9,10])\n",
        "c=np.hstack((a,b)) #stack two arrays horizontally\n",
        "print(c)"
      ],
      "metadata": {
        "colab": {
          "base_uri": "https://localhost:8080/"
        },
        "id": "WmQSlrQmBDoa",
        "outputId": "fd1cbba4-c8a6-4b23-bc16-bb82563c3e82"
      },
      "execution_count": null,
      "outputs": [
        {
          "output_type": "stream",
          "name": "stdout",
          "text": [
            "[ 1  2  3  4  5  6  7  8  9 10]\n"
          ]
        }
      ]
    },
    {
      "cell_type": "code",
      "source": [
        "#hssplit()\n",
        "a=np.arange(1,25).reshape(2,12)\n",
        "print(a)"
      ],
      "metadata": {
        "colab": {
          "base_uri": "https://localhost:8080/"
        },
        "id": "TjcLHZjJBt_V",
        "outputId": "c892c2ea-e238-41fe-8c49-ad96dd69c259"
      },
      "execution_count": null,
      "outputs": [
        {
          "output_type": "stream",
          "name": "stdout",
          "text": [
            "[[ 1  2  3  4  5  6  7  8  9 10 11 12]\n",
            " [13 14 15 16 17 18 19 20 21 22 23 24]]\n"
          ]
        }
      ]
    },
    {
      "cell_type": "code",
      "source": [
        "#splitting into two arrays\n",
        "b=np.hsplit(a,3) #split the array into two arrays\n",
        "print(a)\n",
        "b"
      ],
      "metadata": {
        "colab": {
          "base_uri": "https://localhost:8080/"
        },
        "id": "zNVilk7MCSla",
        "outputId": "42293d53-4a93-4b7d-9490-ecce10f4f279"
      },
      "execution_count": null,
      "outputs": [
        {
          "output_type": "stream",
          "name": "stdout",
          "text": [
            "[[ 1  2  3  4  5  6  7  8  9 10 11 12]\n",
            " [13 14 15 16 17 18 19 20 21 22 23 24]]\n"
          ]
        },
        {
          "output_type": "execute_result",
          "data": {
            "text/plain": [
              "[array([[ 1,  2,  3,  4],\n",
              "        [13, 14, 15, 16]]),\n",
              " array([[ 5,  6,  7,  8],\n",
              "        [17, 18, 19, 20]]),\n",
              " array([[ 9, 10, 11, 12],\n",
              "        [21, 22, 23, 24]])]"
            ]
          },
          "metadata": {},
          "execution_count": 297
        }
      ]
    },
    {
      "cell_type": "code",
      "source": [
        "#view\n",
        "a = np.array([1,2,3,4,5])\n",
        "b=a.view() #create a view of the array and assign it to b but does not change the original array\n",
        "print(a)\n",
        "print(b)\n",
        "b[0]=10 #change the first element of the view also changes the original array because it is a view\n",
        "print(a)\n",
        "print(b)"
      ],
      "metadata": {
        "colab": {
          "base_uri": "https://localhost:8080/"
        },
        "id": "eT51N_VIDMl5",
        "outputId": "972ba4d5-add6-4304-ecd1-1ffa1fb1d954"
      },
      "execution_count": null,
      "outputs": [
        {
          "output_type": "stream",
          "name": "stdout",
          "text": [
            "[1 2 3 4 5]\n",
            "[1 2 3 4 5]\n",
            "[10  2  3  4  5]\n",
            "[10  2  3  4  5]\n"
          ]
        }
      ]
    },
    {
      "cell_type": "code",
      "source": [
        "#copy\n",
        "a = np.array([1,2,3,4,5])\n",
        "b=a.copy() #create a copy of the array and assign it to b but does not change the original array\n",
        "print(a)\n",
        "print(b)\n",
        "b[0]=10 #change the first element of the copy also changes the original array because it is a copy\n",
        "print(a)\n",
        "print(b)"
      ],
      "metadata": {
        "colab": {
          "base_uri": "https://localhost:8080/"
        },
        "id": "myu3N7nRErFr",
        "outputId": "9b525a56-f962-4460-a811-0378c058497c"
      },
      "execution_count": null,
      "outputs": [
        {
          "output_type": "stream",
          "name": "stdout",
          "text": [
            "[1 2 3 4 5]\n",
            "[1 2 3 4 5]\n",
            "[1 2 3 4 5]\n",
            "[10  2  3  4  5]\n"
          ]
        }
      ]
    },
    {
      "cell_type": "markdown",
      "source": [
        "# **Basic array operations**\n",
        "covers addition, subtraction, multiplication, division, and more"
      ],
      "metadata": {
        "id": "RN-OySRXG4CE"
      }
    },
    {
      "cell_type": "code",
      "source": [
        "#addition\n",
        "a = np.array([1,2,3,4,5])\n",
        "b = np.array([6,7,8,9,10])\n",
        "c=a+b #add two arrays\n",
        "print(c)\n",
        "\n",
        "#addition of 2D arrays\n",
        "a = np.array([[1,2,3],[4,5,6]])\n",
        "b = np.array([[7,8,9],[10,11,12]])\n",
        "c=a+b #add two arrays by adding the corresponding elements\n",
        "print(c)"
      ],
      "metadata": {
        "colab": {
          "base_uri": "https://localhost:8080/"
        },
        "id": "FBFwZnJcHDhu",
        "outputId": "9f035fd7-3d53-4f92-de9b-100a5f0b04f5"
      },
      "execution_count": null,
      "outputs": [
        {
          "output_type": "stream",
          "name": "stdout",
          "text": [
            "[ 7  9 11 13 15]\n",
            "[[ 8 10 12]\n",
            " [14 16 18]]\n"
          ]
        }
      ]
    },
    {
      "cell_type": "code",
      "source": [
        "#using the sum\n",
        "a = np.array([1,2,3,4,5])\n",
        "b = np.array([6,7,8,9,10])\n",
        "c=np.sum([a,b]) #add two arrays by adding the corresponding elements\n",
        "print(c)"
      ],
      "metadata": {
        "colab": {
          "base_uri": "https://localhost:8080/"
        },
        "id": "vp4qgf5d6-wm",
        "outputId": "5a4cc50c-4a25-4ae4-a451-f1d0480e630c"
      },
      "execution_count": null,
      "outputs": [
        {
          "output_type": "stream",
          "name": "stdout",
          "text": [
            "55\n"
          ]
        }
      ]
    },
    {
      "cell_type": "code",
      "source": [
        "#Subtraction\n",
        "a = np.array([1,2,3,4,5])\n",
        "b = np.array([6,7,8,9,10])\n",
        "c=a-b #subtract two arrays\n",
        "print(c)\n",
        "\n",
        "#Subtraction of 2D arrays\n",
        "a = np.array([[1,2,3],[4,5,6]])\n",
        "b = np.array([[7,8,9],[10,11,12]])\n",
        "c=a-b #subtract two arrays by subtracting the corresponding elements\n",
        "print(c)"
      ],
      "metadata": {
        "colab": {
          "base_uri": "https://localhost:8080/"
        },
        "id": "AcE_wnMk7g5h",
        "outputId": "481a15c4-c047-4125-a9bc-537d51265c30"
      },
      "execution_count": null,
      "outputs": [
        {
          "output_type": "stream",
          "name": "stdout",
          "text": [
            "[-5 -5 -5 -5 -5]\n",
            "[[-6 -6 -6]\n",
            " [-6 -6 -6]]\n"
          ]
        }
      ]
    },
    {
      "cell_type": "code",
      "source": [
        "#multiplication\n",
        "a = np.array([1,2,3,4,5])\n",
        "b = np.array([6,7,8,9,10])\n",
        "c=a*b #multiply two arrays\n",
        "print(c)\n",
        "\n",
        "#multiplication of 2D arrays\n",
        "a = np.array([[1,2,3],[4,5,6]])\n",
        "b = np.array([[7,8,9],[10,11,12]])\n",
        "c=a*b #multiply two arrays by multiplying the corresponding elements\n",
        "print(c)\n",
        "\n",
        "#division\n",
        "a = np.array([1,2,3,4,5])\n",
        "b = np.array([6,7,8,9,10])\n",
        "c=a/b #divide two arrays\n",
        "print(c)"
      ],
      "metadata": {
        "colab": {
          "base_uri": "https://localhost:8080/"
        },
        "id": "8N47bwksOMUj",
        "outputId": "313bf1f3-2e8b-4d23-84cc-85869681f78a"
      },
      "execution_count": null,
      "outputs": [
        {
          "output_type": "stream",
          "name": "stdout",
          "text": [
            "[ 6 14 24 36 50]\n",
            "[[ 7 16 27]\n",
            " [40 55 72]]\n",
            "[0.16666667 0.28571429 0.375      0.44444444 0.5       ]\n"
          ]
        }
      ]
    },
    {
      "cell_type": "code",
      "source": [
        "#division of 2D arrays\n",
        "a = np.array([[1,2,3],[4,5,6]])\n",
        "b = np.array([[7,8,9],[10,11,12]])\n",
        "c=a/b #divide two arrays by dividing the corresponding elements\n",
        "print(c)"
      ],
      "metadata": {
        "colab": {
          "base_uri": "https://localhost:8080/"
        },
        "id": "8lY2uE1vOxgN",
        "outputId": "6143cbed-9839-47f2-9563-157472d9d4f1"
      },
      "execution_count": null,
      "outputs": [
        {
          "output_type": "stream",
          "name": "stdout",
          "text": [
            "[[0.14285714 0.25       0.33333333]\n",
            " [0.4        0.45454545 0.5       ]]\n"
          ]
        }
      ]
    },
    {
      "cell_type": "markdown",
      "source": [
        "# **Broadcasting**\n",
        "There are times when you might want to carry out an operation between an array and a single number (also called an operation between a vector and a scalar) or between arrays of two different sizes."
      ],
      "metadata": {
        "id": "7mZZhdGBO3v_"
      }
    },
    {
      "cell_type": "code",
      "source": [
        "#What is broadcasting?\n",
        "#Broadcasting is a way to make two arrays of different shapes work together by automatically expanding one of the arrays to match the shape of the other array.\n",
        "a = np.array([1,2,3,4,5])\n",
        "b = 2 #scalar\n",
        "c=a*b #multiply two arrays\n",
        "print(c)"
      ],
      "metadata": {
        "colab": {
          "base_uri": "https://localhost:8080/"
        },
        "id": "NBxqwEYyPE0p",
        "outputId": "a190b8c2-ed76-46d5-8e74-984f216a6a05"
      },
      "execution_count": null,
      "outputs": [
        {
          "output_type": "stream",
          "name": "stdout",
          "text": [
            "[ 2  4  6  8 10]\n"
          ]
        }
      ]
    },
    {
      "cell_type": "code",
      "source": [
        "#Broadcasting of 2D arrays\n",
        "a = np.array([[1,2,3],[4,5,6]])\n",
        "b = 2 #scalar\n",
        "c=a*b #multiply two arrays by multiplying the corresponding elements\n",
        "print(c)"
      ],
      "metadata": {
        "colab": {
          "base_uri": "https://localhost:8080/"
        },
        "id": "iWHZTmfcaSEx",
        "outputId": "a176d6ee-facf-4ead-a118-f871c266fca7"
      },
      "execution_count": null,
      "outputs": [
        {
          "output_type": "stream",
          "name": "stdout",
          "text": [
            "[[ 2  4  6]\n",
            " [ 8 10 12]]\n"
          ]
        }
      ]
    },
    {
      "cell_type": "markdown",
      "source": [
        "# **Other array operations**\n",
        "maximum, minimum, sum, mean, product, standard deviation, and more\n",
        "\n",
        "NumPy also performs aggregation functions. In addition to min, max, and sum, you can easily run mean to get the average, prod to get the result of multiplying the elements together, std to get the standard deviation, and more."
      ],
      "metadata": {
        "id": "Avp2EsJaavfi"
      }
    },
    {
      "cell_type": "code",
      "source": [
        "a=np.array([1,2,3,4,5])\n",
        "b=np.max(a) #get the maximum value in the array\n",
        "print(b)"
      ],
      "metadata": {
        "colab": {
          "base_uri": "https://localhost:8080/"
        },
        "id": "fRK6ppFwbCWi",
        "outputId": "4e5acb20-12e5-406f-ac26-95737b42b33e"
      },
      "execution_count": null,
      "outputs": [
        {
          "output_type": "stream",
          "name": "stdout",
          "text": [
            "5\n"
          ]
        }
      ]
    },
    {
      "cell_type": "code",
      "source": [
        "#min\n",
        "b=np.min(a) #get the minimum value in the array\n",
        "print(b)\n"
      ],
      "metadata": {
        "colab": {
          "base_uri": "https://localhost:8080/"
        },
        "id": "f2_25uLBbGal",
        "outputId": "071fcbf1-eae5-4d7a-a3fe-f5f89e7f0226"
      },
      "execution_count": null,
      "outputs": [
        {
          "output_type": "stream",
          "name": "stdout",
          "text": [
            "1\n"
          ]
        }
      ]
    },
    {
      "cell_type": "code",
      "source": [
        "#mean\n",
        "b=np.mean(a) #get the mean value in the array\n",
        "print(b)\n",
        "\n"
      ],
      "metadata": {
        "colab": {
          "base_uri": "https://localhost:8080/"
        },
        "id": "02O66dXKbMm7",
        "outputId": "ac7f3838-44fb-41bf-aacc-bb277e50d53e"
      },
      "execution_count": null,
      "outputs": [
        {
          "output_type": "stream",
          "name": "stdout",
          "text": [
            "3.0\n"
          ]
        }
      ]
    },
    {
      "cell_type": "code",
      "source": [
        "\n",
        "#sum\n",
        "b=np.sum(a) #get the sum of the array\n",
        "print(b)"
      ],
      "metadata": {
        "colab": {
          "base_uri": "https://localhost:8080/"
        },
        "id": "vtT8xmWHbRMa",
        "outputId": "ea0d136e-b417-417c-b9ff-4dc5effa7742"
      },
      "execution_count": null,
      "outputs": [
        {
          "output_type": "stream",
          "name": "stdout",
          "text": [
            "15\n"
          ]
        }
      ]
    },
    {
      "cell_type": "code",
      "source": [
        "#median\n",
        "b=np.median(a) #get the median value in the array\n",
        "print(b)"
      ],
      "metadata": {
        "colab": {
          "base_uri": "https://localhost:8080/"
        },
        "id": "JiBgURRbbWWc",
        "outputId": "43e9fbd4-4cda-4d05-8911-449a62a0c1c3"
      },
      "execution_count": null,
      "outputs": [
        {
          "output_type": "stream",
          "name": "stdout",
          "text": [
            "3.0\n"
          ]
        }
      ]
    },
    {
      "cell_type": "code",
      "source": [
        "#standard deviation\n",
        "b=np.std(a) #get the standard deviation of the array\n",
        "print(b)"
      ],
      "metadata": {
        "colab": {
          "base_uri": "https://localhost:8080/"
        },
        "id": "7mu8NF07bic5",
        "outputId": "ebc3262e-3ee1-47cf-de3d-dce7d014741e"
      },
      "execution_count": null,
      "outputs": [
        {
          "output_type": "stream",
          "name": "stdout",
          "text": [
            "1.4142135623730951\n"
          ]
        }
      ]
    },
    {
      "cell_type": "code",
      "source": [
        "#variance\n",
        "b=np.var(a) #get the variance of the array\n",
        "print(b)"
      ],
      "metadata": {
        "colab": {
          "base_uri": "https://localhost:8080/"
        },
        "id": "-BabLzsIbl7_",
        "outputId": "d1072e15-8022-4c59-accd-2df02c5e9244"
      },
      "execution_count": null,
      "outputs": [
        {
          "output_type": "stream",
          "name": "stdout",
          "text": [
            "2.0\n"
          ]
        }
      ]
    },
    {
      "cell_type": "code",
      "source": [
        "#dot\n",
        "a = np.array([1,2,3,4,5])\n",
        "b = np.array([6,7,8,9,10])\n",
        "c=np.dot(a,b) #multiply two arrays and sum then elements\n",
        "print(c)"
      ],
      "metadata": {
        "colab": {
          "base_uri": "https://localhost:8080/"
        },
        "id": "e3bBhrVGboRN",
        "outputId": "b826cc99-a46c-4936-a7ec-4975bb22e0ff"
      },
      "execution_count": null,
      "outputs": [
        {
          "output_type": "stream",
          "name": "stdout",
          "text": [
            "130\n"
          ]
        }
      ]
    },
    {
      "cell_type": "markdown",
      "source": [
        "# **Creating matrices**"
      ],
      "metadata": {
        "id": "jvg1-lEagJcv"
      }
    },
    {
      "cell_type": "code",
      "source": [
        "# create a matrix\n",
        "a = np.array([[1,2,3],[4,5,6]])\n",
        "print(a)"
      ],
      "metadata": {
        "colab": {
          "base_uri": "https://localhost:8080/"
        },
        "id": "ZzLVfOilgQq1",
        "outputId": "e174a1ec-d1af-4bec-d245-47125af242e0"
      },
      "execution_count": null,
      "outputs": [
        {
          "output_type": "stream",
          "name": "stdout",
          "text": [
            "[[1 2 3]\n",
            " [4 5 6]]\n"
          ]
        }
      ]
    },
    {
      "cell_type": "markdown",
      "source": [
        "# **Generating random numbers**"
      ],
      "metadata": {
        "id": "cbxNY2zKggJO"
      }
    },
    {
      "cell_type": "code",
      "source": [
        "#generating random numbers\n",
        "a = np.random.rand(2,3) #generate random numbers between 0 and 1\n",
        "print(a)"
      ],
      "metadata": {
        "colab": {
          "base_uri": "https://localhost:8080/"
        },
        "id": "Mft-R-LVgh6_",
        "outputId": "d91eb799-4909-45b0-862b-2b96b3ff70a2"
      },
      "execution_count": null,
      "outputs": [
        {
          "output_type": "stream",
          "name": "stdout",
          "text": [
            "[[0.25140479 0.86683356 0.88936873]\n",
            " [0.37173486 0.62312948 0.5461555 ]]\n"
          ]
        }
      ]
    },
    {
      "cell_type": "code",
      "source": [
        "#generating random integers\n",
        "a = np.random.randint(0,10,(2,3)) #generate random integers between 0 and 10\n",
        "print(a)"
      ],
      "metadata": {
        "colab": {
          "base_uri": "https://localhost:8080/"
        },
        "id": "wQRJrP1eguy8",
        "outputId": "72fe23e1-831b-4907-850f-27b54f042543"
      },
      "execution_count": null,
      "outputs": [
        {
          "output_type": "stream",
          "name": "stdout",
          "text": [
            "[[6 0 2]\n",
            " [1 4 7]]\n"
          ]
        }
      ]
    },
    {
      "cell_type": "markdown",
      "source": [
        "# **How to get unique items and counts**"
      ],
      "metadata": {
        "id": "_sj7pEXSiegy"
      }
    },
    {
      "cell_type": "code",
      "source": [
        "#unique values and counts\n",
        "a = np.array([1,2,3,4,5,5,6,7,7,8,9,10])\n",
        "b=np.unique(a) #get the unique values in the array\n",
        "print(b)\n"
      ],
      "metadata": {
        "colab": {
          "base_uri": "https://localhost:8080/"
        },
        "id": "PkQEqCBpig-C",
        "outputId": "90013cbe-f790-414b-d2c4-c4f6b6c62aaa"
      },
      "execution_count": null,
      "outputs": [
        {
          "output_type": "stream",
          "name": "stdout",
          "text": [
            "[ 1  2  3  4  5  6  7  8  9 10]\n"
          ]
        }
      ]
    },
    {
      "cell_type": "code",
      "source": [
        "c=np.unique(a,return_counts=True) #get the unique values in the array and their counts\n",
        "print(c)"
      ],
      "metadata": {
        "colab": {
          "base_uri": "https://localhost:8080/"
        },
        "id": "QSHHnzPei0cS",
        "outputId": "d50dd062-0e63-4ad3-e5c4-b264d5bd7ab7"
      },
      "execution_count": null,
      "outputs": [
        {
          "output_type": "stream",
          "name": "stdout",
          "text": [
            "(array([ 1,  2,  3,  4,  5,  6,  7,  8,  9, 10]), array([1, 1, 1, 1, 2, 1, 2, 1, 1, 1]))\n"
          ]
        }
      ]
    },
    {
      "cell_type": "code",
      "source": [
        "#2D arrays\n",
        "a = np.array([[1,2,3],[4,5,6]])\n",
        "b=np.unique(a) #get the unique values in the array\n",
        "print(b)\n",
        "c=np.unique(a,return_counts=True) #get the unique values in the array and their counts\n",
        "print(c)"
      ],
      "metadata": {
        "colab": {
          "base_uri": "https://localhost:8080/"
        },
        "id": "z-PJhtS_jdZI",
        "outputId": "cbd895f1-a1f8-4f75-b433-6c8bc12e26bd"
      },
      "execution_count": null,
      "outputs": [
        {
          "output_type": "stream",
          "name": "stdout",
          "text": [
            "[1 2 3 4 5 6]\n",
            "(array([1, 2, 3, 4, 5, 6]), array([1, 1, 1, 1, 1, 1]))\n"
          ]
        }
      ]
    },
    {
      "cell_type": "markdown",
      "source": [
        "# **Transposing and reshaping a matrix**\n",
        "arr.reshape(), arr.transpose(), arr.T"
      ],
      "metadata": {
        "id": "UHAMec8zkBb_"
      }
    },
    {
      "cell_type": "code",
      "source": [
        "#reshape\n",
        "a = np.array([1,2,3,4,5,6])\n",
        "b=a.reshape(2,3) #reshape the array into a 2x3 matrix\n",
        "print(b)"
      ],
      "metadata": {
        "colab": {
          "base_uri": "https://localhost:8080/"
        },
        "id": "jDYAuA0fkIdG",
        "outputId": "cc2ae915-dbcd-49c3-9a50-c817e03fbcaf"
      },
      "execution_count": null,
      "outputs": [
        {
          "output_type": "stream",
          "name": "stdout",
          "text": [
            "[[1 2 3]\n",
            " [4 5 6]]\n"
          ]
        }
      ]
    },
    {
      "cell_type": "code",
      "source": [
        "#transpose\n",
        "a = np.array([[1,2,3],[4,5,6]])\n",
        "b=a.T #transpose the array\n",
        "print(a)\n",
        "print(b)"
      ],
      "metadata": {
        "colab": {
          "base_uri": "https://localhost:8080/"
        },
        "id": "jkKfFS_hkiC1",
        "outputId": "7d371580-9f05-4a8c-e501-8fbfd8521c09"
      },
      "execution_count": null,
      "outputs": [
        {
          "output_type": "stream",
          "name": "stdout",
          "text": [
            "[[1 2 3]\n",
            " [4 5 6]]\n",
            "[[1 4]\n",
            " [2 5]\n",
            " [3 6]]\n"
          ]
        }
      ]
    },
    {
      "cell_type": "code",
      "source": [],
      "metadata": {
        "id": "XM98lXyIk6g0"
      },
      "execution_count": null,
      "outputs": []
    },
    {
      "cell_type": "markdown",
      "source": [
        "# **How to reverse an array**\n",
        "covers np.flip()"
      ],
      "metadata": {
        "id": "0vYDpSZblFmf"
      }
    },
    {
      "cell_type": "code",
      "source": [
        "a=np.arange(1,10)\n",
        "print(a)"
      ],
      "metadata": {
        "colab": {
          "base_uri": "https://localhost:8080/"
        },
        "id": "yrTPo1a9lK9L",
        "outputId": "e4df35bd-f8d8-4303-bc18-f24529b0dab9"
      },
      "execution_count": null,
      "outputs": [
        {
          "output_type": "stream",
          "name": "stdout",
          "text": [
            "[1 2 3 4 5 6 7 8 9]\n"
          ]
        }
      ]
    },
    {
      "cell_type": "code",
      "source": [
        "#flip\n",
        "a=np.flip(a) #flip the array.This reverses the order of the elements in the array\n",
        "print(a)"
      ],
      "metadata": {
        "colab": {
          "base_uri": "https://localhost:8080/"
        },
        "id": "scUQljMPlkz6",
        "outputId": "3b76854a-3bdc-4981-f9d3-fbbf66d4da08"
      },
      "execution_count": null,
      "outputs": [
        {
          "output_type": "stream",
          "name": "stdout",
          "text": [
            "[9 8 7 6 5 4 3 2 1]\n"
          ]
        }
      ]
    },
    {
      "cell_type": "code",
      "source": [
        "#2d arrays\n",
        "a=np.arange(1,10).reshape(3,3)\n",
        "print(a)\n"
      ],
      "metadata": {
        "colab": {
          "base_uri": "https://localhost:8080/"
        },
        "id": "UIE6tDX-ls-R",
        "outputId": "b8f86dbe-9385-4d81-93d3-53b105c94a3d"
      },
      "execution_count": null,
      "outputs": [
        {
          "output_type": "stream",
          "name": "stdout",
          "text": [
            "[[1 2 3]\n",
            " [4 5 6]\n",
            " [7 8 9]]\n"
          ]
        }
      ]
    },
    {
      "cell_type": "code",
      "source": [
        "#flip\n",
        "a=np.flip(a) #flip the array.This reverses the order of the elements in the array\n",
        "print(a)\n"
      ],
      "metadata": {
        "id": "EaaXGfPMlzlU",
        "colab": {
          "base_uri": "https://localhost:8080/"
        },
        "outputId": "65d1fc64-8736-4dc6-8c44-3c39626aa1f4"
      },
      "execution_count": null,
      "outputs": [
        {
          "output_type": "stream",
          "name": "stdout",
          "text": [
            "[[9 8 7]\n",
            " [6 5 4]\n",
            " [3 2 1]]\n"
          ]
        }
      ]
    },
    {
      "cell_type": "code",
      "source": [],
      "metadata": {
        "id": "rpq5n2QAl4sp"
      },
      "execution_count": null,
      "outputs": []
    },
    {
      "cell_type": "code",
      "source": [
        "\n",
        "#flip\n",
        "a=np.flip(a,0) #flip the array along the first axis.This reverses the order of the elements in the first dimension of the array\n",
        "print(a)"
      ],
      "metadata": {
        "id": "NnXlrDukl4XL",
        "colab": {
          "base_uri": "https://localhost:8080/"
        },
        "outputId": "27ce10eb-2c77-456f-a172-a6203b3a2b1d"
      },
      "execution_count": null,
      "outputs": [
        {
          "output_type": "stream",
          "name": "stdout",
          "text": [
            "[[3 2 1]\n",
            " [6 5 4]\n",
            " [9 8 7]]\n"
          ]
        }
      ]
    },
    {
      "cell_type": "markdown",
      "source": [
        "# **Reshaping and flattening multidimensional arrays**\n",
        " covers .flatten(), ravel()\n",
        "\n",
        "There are two popular ways to flatten an array: .flatten() and .ravel(). The primary difference between the two is that the new array created using ravel() is actually a reference to the parent array (i.e., a “view”). This means that any changes to the new array will affect the parent array as well. Since ravel does not create a copy, it’s memory efficient."
      ],
      "metadata": {
        "id": "FxG9DWaIyEhI"
      }
    },
    {
      "cell_type": "code",
      "source": [
        "#flattening\n",
        "a=np.arange(1,10).reshape(3,3)\n",
        "print(a)\n",
        "b=a.flatten() #flatten the array into a 1D array\n",
        "print(b)"
      ],
      "metadata": {
        "colab": {
          "base_uri": "https://localhost:8080/"
        },
        "id": "X6UXWn6nyRl0",
        "outputId": "d21d7977-36ad-4ca4-d9ba-f793b50a45e8"
      },
      "execution_count": null,
      "outputs": [
        {
          "output_type": "stream",
          "name": "stdout",
          "text": [
            "[[1 2 3]\n",
            " [4 5 6]\n",
            " [7 8 9]]\n",
            "[1 2 3 4 5 6 7 8 9]\n"
          ]
        }
      ]
    },
    {
      "cell_type": "code",
      "source": [
        "b[0]=10 #change the first element of the flattened array\n",
        "print(b)"
      ],
      "metadata": {
        "colab": {
          "base_uri": "https://localhost:8080/"
        },
        "id": "w6J3z5UBzniP",
        "outputId": "f76221e6-07e8-4ec1-e65a-b270aadfdb3a"
      },
      "execution_count": null,
      "outputs": [
        {
          "output_type": "stream",
          "name": "stdout",
          "text": [
            "[10  2  3  4  5  6  7  8  9]\n"
          ]
        }
      ]
    },
    {
      "cell_type": "code",
      "source": [
        "#check if a has changed after changing the first element of the flattened array\n",
        "print(a) #the original array has not changed"
      ],
      "metadata": {
        "colab": {
          "base_uri": "https://localhost:8080/"
        },
        "id": "u3UuxSyrzvYg",
        "outputId": "123a0dd6-2d99-4736-a3c5-018410960b98"
      },
      "execution_count": null,
      "outputs": [
        {
          "output_type": "stream",
          "name": "stdout",
          "text": [
            "[[1 2 3]\n",
            " [4 5 6]\n",
            " [7 8 9]]\n"
          ]
        }
      ]
    },
    {
      "cell_type": "code",
      "source": [
        "#ravel\n",
        "a=np.arange(1,10).reshape(3,3)\n",
        "print(a)\n",
        "b=a.ravel() #flatten the array into a 1D array\n",
        "print(b)\n"
      ],
      "metadata": {
        "id": "_WLWHkNz6Q3W",
        "colab": {
          "base_uri": "https://localhost:8080/"
        },
        "outputId": "a65ed5fa-1c72-492e-8154-6f2cfb9ae112"
      },
      "execution_count": null,
      "outputs": [
        {
          "output_type": "stream",
          "name": "stdout",
          "text": [
            "[[1 2 3]\n",
            " [4 5 6]\n",
            " [7 8 9]]\n",
            "[1 2 3 4 5 6 7 8 9]\n"
          ]
        }
      ]
    },
    {
      "cell_type": "code",
      "source": [
        "b[0]=10  #change the first element of the flattened array\n",
        "print(a) #the original array has changed\n",
        "print(b)"
      ],
      "metadata": {
        "colab": {
          "base_uri": "https://localhost:8080/"
        },
        "id": "Pj944LFD8Bu5",
        "outputId": "92091951-232b-40a4-cd58-71193c00ca06"
      },
      "execution_count": null,
      "outputs": [
        {
          "output_type": "stream",
          "name": "stdout",
          "text": [
            "[[10  2  3]\n",
            " [ 4  5  6]\n",
            " [ 7  8  9]]\n",
            "[10  2  3  4  5  6  7  8  9]\n"
          ]
        }
      ]
    },
    {
      "cell_type": "markdown",
      "source": [
        "# **Working with mathematical formulas**"
      ],
      "metadata": {
        "id": "QApNTQ1A9bNC"
      }
    },
    {
      "cell_type": "code",
      "source": [],
      "metadata": {
        "id": "rP6xrlkN9eP_"
      },
      "execution_count": null,
      "outputs": []
    }
  ]
}